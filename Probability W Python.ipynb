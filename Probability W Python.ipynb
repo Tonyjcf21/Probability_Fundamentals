{
 "cells": [
  {
   "cell_type": "code",
   "execution_count": 2,
   "id": "4dae6fbf",
   "metadata": {},
   "outputs": [],
   "source": [
    "import numpy as np\n",
    "import random\n",
    "import matplotlib.pyplot as plt\n",
    "import seaborn as sns"
   ]
  },
  {
   "cell_type": "markdown",
   "id": "be6d9f2a",
   "metadata": {},
   "source": [
    "### Binomial Distribution Assumptions \n",
    "\n",
    "1. Only 2 types of results \n",
    "2. Events are independent\n",
    "3. Each event has the same probability to occur for each run\n",
    "\n"
   ]
  },
  {
   "cell_type": "markdown",
   "id": "be76ea2c",
   "metadata": {},
   "source": [
    "# Examples for assumptions:\n",
    "\n",
    "## Only 2 types of results & Events are independent\n",
    "\n",
    "* Coins - head or tails (can there be both heads and tails?)\n",
    "* e-Commerce - client bought or didn't buy (can you buy and not buy?)\n",
    "* Behavioural - Click or no click\n",
    "* Cyber Security - Fradulant or benign\n",
    "* Marketing - Click on ad or don't\n",
    "* Finance - Stock will go up or down\n"
   ]
  },
  {
   "cell_type": "markdown",
   "id": "66c20c60",
   "metadata": {},
   "source": [
    "## Each event has the same probability to occur for each run - \n",
    "\n",
    "### A Google Interview question\n",
    "* I've thrown a fair coin 4 times, and the results are H,H,H,H - What is the probability for a Tail?\n",
    " * that the next throw will be T? __50% chance__\n",
    " * What is the probability of getting 4 Hs and 1T?\n"
   ]
  },
  {
   "cell_type": "markdown",
   "id": "a6bc7562",
   "metadata": {},
   "source": [
    "## Tossing coins!"
   ]
  },
  {
   "cell_type": "code",
   "execution_count": 10,
   "id": "d133a432",
   "metadata": {},
   "outputs": [
    {
     "name": "stdout",
     "output_type": "stream",
     "text": [
      "\n",
      "        binomial(n, p, size=None)\n",
      "\n",
      "        Draw samples from a binomial distribution.\n",
      "\n",
      "        Samples are drawn from a binomial distribution with specified\n",
      "        parameters, n trials and p probability of success where\n",
      "        n an integer >= 0 and p is in the interval [0,1]. (n may be\n",
      "        input as a float, but it is truncated to an integer in use)\n",
      "\n",
      "        .. note::\n",
      "            New code should use the ``binomial`` method of a ``default_rng()``\n",
      "            instance instead; please see the :ref:`random-quick-start`.\n",
      "\n",
      "        Parameters\n",
      "        ----------\n",
      "        n : int or array_like of ints\n",
      "            Parameter of the distribution, >= 0. Floats are also accepted,\n",
      "            but they will be truncated to integers.\n",
      "        p : float or array_like of floats\n",
      "            Parameter of the distribution, >= 0 and <=1.\n",
      "        size : int or tuple of ints, optional\n",
      "            Output shape.  If the given shape is, e.g., ``(m, n, k)``, then\n",
      "            ``m * n * k`` samples are drawn.  If size is ``None`` (default),\n",
      "            a single value is returned if ``n`` and ``p`` are both scalars.\n",
      "            Otherwise, ``np.broadcast(n, p).size`` samples are drawn.\n",
      "\n",
      "        Returns\n",
      "        -------\n",
      "        out : ndarray or scalar\n",
      "            Drawn samples from the parameterized binomial distribution, where\n",
      "            each sample is equal to the number of successes over the n trials.\n",
      "\n",
      "        See Also\n",
      "        --------\n",
      "        scipy.stats.binom : probability density function, distribution or\n",
      "            cumulative density function, etc.\n",
      "        random.Generator.binomial: which should be used for new code.\n",
      "\n",
      "        Notes\n",
      "        -----\n",
      "        The probability density for the binomial distribution is\n",
      "\n",
      "        .. math:: P(N) = \\binom{n}{N}p^N(1-p)^{n-N},\n",
      "\n",
      "        where :math:`n` is the number of trials, :math:`p` is the probability\n",
      "        of success, and :math:`N` is the number of successes.\n",
      "\n",
      "        When estimating the standard error of a proportion in a population by\n",
      "        using a random sample, the normal distribution works well unless the\n",
      "        product p*n <=5, where p = population proportion estimate, and n =\n",
      "        number of samples, in which case the binomial distribution is used\n",
      "        instead. For example, a sample of 15 people shows 4 who are left\n",
      "        handed, and 11 who are right handed. Then p = 4/15 = 27%. 0.27*15 = 4,\n",
      "        so the binomial distribution should be used in this case.\n",
      "\n",
      "        References\n",
      "        ----------\n",
      "        .. [1] Dalgaard, Peter, \"Introductory Statistics with R\",\n",
      "               Springer-Verlag, 2002.\n",
      "        .. [2] Glantz, Stanton A. \"Primer of Biostatistics.\", McGraw-Hill,\n",
      "               Fifth Edition, 2002.\n",
      "        .. [3] Lentner, Marvin, \"Elementary Applied Statistics\", Bogden\n",
      "               and Quigley, 1972.\n",
      "        .. [4] Weisstein, Eric W. \"Binomial Distribution.\" From MathWorld--A\n",
      "               Wolfram Web Resource.\n",
      "               http://mathworld.wolfram.com/BinomialDistribution.html\n",
      "        .. [5] Wikipedia, \"Binomial distribution\",\n",
      "               https://en.wikipedia.org/wiki/Binomial_distribution\n",
      "\n",
      "        Examples\n",
      "        --------\n",
      "        Draw samples from the distribution:\n",
      "\n",
      "        >>> n, p = 10, .5  # number of trials, probability of each trial\n",
      "        >>> s = np.random.binomial(n, p, 1000)\n",
      "        # result of flipping a coin 10 times, tested 1000 times.\n",
      "\n",
      "        A real world example. A company drills 9 wild-cat oil exploration\n",
      "        wells, each with an estimated probability of success of 0.1. All nine\n",
      "        wells fail. What is the probability of that happening?\n",
      "\n",
      "        Let's do 20,000 trials of the model, and count the number that\n",
      "        generate zero positive results.\n",
      "\n",
      "        >>> sum(np.random.binomial(9, 0.1, 20000) == 0)/20000.\n",
      "        # answer = 0.38885, or 38%.\n",
      "\n",
      "        \n"
     ]
    }
   ],
   "source": [
    "print(np.random.binomial.__doc__)"
   ]
  },
  {
   "cell_type": "code",
   "execution_count": 3,
   "id": "41aad436",
   "metadata": {},
   "outputs": [
    {
     "name": "stdout",
     "output_type": "stream",
     "text": [
      "0\n",
      "1\n",
      "0\n",
      "1\n"
     ]
    }
   ],
   "source": [
    "# Let's toss a fair coin 4 times\n",
    "#(number of trials, prob of success)\n",
    "print(np.random.binomial(1, 0.5))\n",
    "print(np.random.binomial(1, 0.5))\n",
    "print(np.random.binomial(1, 0.5))\n",
    "print(np.random.binomial(1, 0.5))\n"
   ]
  },
  {
   "cell_type": "code",
   "execution_count": 4,
   "id": "9989d697",
   "metadata": {},
   "outputs": [
    {
     "data": {
      "text/plain": [
       "array([1, 1, 0, 0])"
      ]
     },
     "execution_count": 4,
     "metadata": {},
     "output_type": "execute_result"
    }
   ],
   "source": [
    "# Let's toss a fair coin 4 times\n",
    "#(n of trials, prob of success,n of samples)\n",
    "np.random.binomial(1, 0.5,4)\n"
   ]
  },
  {
   "cell_type": "code",
   "execution_count": 16,
   "id": "74588fbc",
   "metadata": {},
   "outputs": [
    {
     "data": {
      "text/plain": [
       "array([0, 0, 0, 0, 0, 0, 0, 0, 0, 0, 0, 0, 0, 0, 0, 0, 0, 0, 0, 0, 0, 0,\n",
       "       0, 0, 0, 0, 0, 0, 0, 0, 1, 0, 0, 0, 0, 0, 0, 0, 0, 0, 0, 0, 0, 0,\n",
       "       0, 0, 0, 0, 0, 0, 0, 0, 0, 0, 0, 0, 0, 0, 0, 0, 1, 0, 0, 0, 0, 0,\n",
       "       0, 0, 0, 0, 0, 0, 0, 0, 0, 0, 0, 0, 0, 0, 0, 0, 0, 0, 1, 0, 0, 0,\n",
       "       1, 1, 0, 0, 1, 1, 0, 0, 0, 0, 0, 0])"
      ]
     },
     "execution_count": 16,
     "metadata": {},
     "output_type": "execute_result"
    }
   ],
   "source": [
    "# The probability of a client buying a product is 5%, and we have 100 customers\n",
    "\n",
    "# create a list/array of buyers/not buyers using a for loop\n",
    "buyers = []\n",
    "\n",
    "for i in range(100):\n",
    "    buyers.append(np.random.binomial(1, 0.05))\n",
    "\n",
    "np.array(buyers)"
   ]
  },
  {
   "cell_type": "code",
   "execution_count": 12,
   "id": "a5b3579c",
   "metadata": {},
   "outputs": [
    {
     "data": {
      "text/plain": [
       "array([0, 0, 0, 0, 1, 0, 0, 0, 0, 0, 0, 0, 0, 0, 0, 0, 0, 0, 0, 0, 0, 0,\n",
       "       0, 0, 0, 0, 0, 0, 1, 0, 0, 0, 0, 0, 0, 0, 0, 0, 0, 0, 0, 0, 0, 0,\n",
       "       0, 0, 0, 0, 0, 1, 0, 0, 0, 0, 0, 0, 1, 0, 0, 0, 0, 0, 0, 0, 0, 0,\n",
       "       0, 0, 0, 0, 0, 0, 0, 0, 0, 0, 0, 0, 0, 0, 0, 0, 0, 0, 0, 0, 0, 0,\n",
       "       0, 0, 1, 0, 0, 0, 0, 0, 0, 0, 0, 0])"
      ]
     },
     "execution_count": 12,
     "metadata": {},
     "output_type": "execute_result"
    }
   ],
   "source": [
    "# create a list/array of buyers/not buyers without using a for loop\n",
    "\n",
    "np.random.binomial(1, 0.05, 100)"
   ]
  },
  {
   "cell_type": "code",
   "execution_count": 17,
   "id": "cd672612",
   "metadata": {},
   "outputs": [
    {
     "name": "stdout",
     "output_type": "stream",
     "text": [
      "5: \t0.0\n",
      "50: \t0.02\n",
      "500: \t0.044\n",
      "5000: \t0.0562\n"
     ]
    }
   ],
   "source": [
    "# What is the mean of the group (with different group sizes)?\n",
    "\n",
    "print(f\"5: \\t{sum(np.random.binomial(1, 0.05, 5))/5}\")\n",
    "print(f\"50: \\t{sum(np.random.binomial(1, 0.05, 50))/50}\")\n",
    "print(f\"500: \\t{sum(np.random.binomial(1, 0.05, 500))/500}\")\n",
    "print(f\"5000: \\t{sum(np.random.binomial(1, 0.05, 5000))/5000}\")"
   ]
  },
  {
   "cell_type": "code",
   "execution_count": 19,
   "id": "982dd46d",
   "metadata": {},
   "outputs": [
    {
     "name": "stdout",
     "output_type": "stream",
     "text": [
      "The mean for the binomial distribution with =0.05 and group size=1 is 0.0\n",
      "The mean for the binomial distribution with =0.05 and group size=201 is 0.03482587064676617\n",
      "The mean for the binomial distribution with =0.05 and group size=401 is 0.05236907730673317\n",
      "The mean for the binomial distribution with =0.05 and group size=601 is 0.04658901830282862\n",
      "The mean for the binomial distribution with =0.05 and group size=801 is 0.05368289637952559\n"
     ]
    }
   ],
   "source": [
    "# Let's write a for loop\n",
    "\n",
    "for group_size in range(1,1000,200):\n",
    "    s = sum(np.random.binomial(1, 0.05, group_size))/group_size\n",
    "    print(f\"The mean for the binomial distribution with =0.05 and group size={group_size} is {s}\")"
   ]
  },
  {
   "cell_type": "code",
   "execution_count": 23,
   "id": "09ca0cbf",
   "metadata": {},
   "outputs": [],
   "source": [
    "x, y = [], []\n",
    "\n",
    "for group_size in range(10,50000,100):\n",
    "    mean = sum(np.random.binomial(1, 0.05, group_size))/group_size\n",
    "    x.append(group_size)\n",
    "    y.append(mean)\n",
    "    \n"
   ]
  },
  {
   "cell_type": "code",
   "execution_count": 24,
   "id": "8e796315",
   "metadata": {},
   "outputs": [
    {
     "data": {
      "text/plain": [
       "<matplotlib.lines.Line2D at 0x7f616645ee80>"
      ]
     },
     "execution_count": 24,
     "metadata": {},
     "output_type": "execute_result"
    },
    {
     "data": {
      "image/png": "[encoded data removed]",
      "text/plain": [
       "<Figure size 432x288 with 1 Axes>"
      ]
     },
     "metadata": {
      "needs_background": "light"
     },
     "output_type": "display_data"
    }
   ],
   "source": [
    "# The average of the group diverges into the probability of success\n",
    "plt.plot(x, y)\n",
    "plt.axhline(0.05, c='r')"
   ]
  },
  {
   "cell_type": "markdown",
   "id": "b467a1b0",
   "metadata": {},
   "source": [
    "# Practice!\n",
    "\n",
    "\n",
    "#### Talk about this usecase:\n",
    "* I have a button on site\n",
    "* The probability that the client will click on it is 3% (because it's located in an inaccisble location)\n",
    "* If in a specific day I have 1000 users - how many of them would click the button?"
   ]
  },
  {
   "cell_type": "code",
   "execution_count": 29,
   "id": "773ed997",
   "metadata": {},
   "outputs": [
    {
     "data": {
      "text/plain": [
       "24"
      ]
     },
     "execution_count": 29,
     "metadata": {},
     "output_type": "execute_result"
    }
   ],
   "source": [
    "sum(np.random.binomial(1, 0.03,1000))"
   ]
  },
  {
   "cell_type": "code",
   "execution_count": 30,
   "id": "a1d49f8f",
   "metadata": {},
   "outputs": [
    {
     "data": {
      "text/plain": [
       "26"
      ]
     },
     "execution_count": 30,
     "metadata": {},
     "output_type": "execute_result"
    }
   ],
   "source": [
    "np.random.binomial(1000, 0.03) #Is equivalent"
   ]
  },
  {
   "cell_type": "code",
   "execution_count": 31,
   "id": "dc63d8d5",
   "metadata": {},
   "outputs": [
    {
     "data": {
      "text/plain": [
       "(array([1., 1., 0., 1., 0., 0., 3., 1., 2., 1.]),\n",
       " array([17. , 18.5, 20. , 21.5, 23. , 24.5, 26. , 27.5, 29. , 30.5, 32. ]),\n",
       " <BarContainer object of 10 artists>)"
      ]
     },
     "execution_count": 31,
     "metadata": {},
     "output_type": "execute_result"
    },
    {
     "data": {
      "image/png": "[encoded data removed]",
      "text/plain": [
       "<Figure size 432x288 with 1 Axes>"
      ]
     },
     "metadata": {
      "needs_background": "light"
     },
     "output_type": "display_data"
    }
   ],
   "source": [
    "#Running multiple simulations\n",
    "collector = []\n",
    "\n",
    "for i in range(10):\n",
    "    successes = np.random.binomial(1000, 0.03)\n",
    "    collector.append(successes)\n",
    "    \n",
    "plt.hist(collector)"
   ]
  },
  {
   "cell_type": "code",
   "execution_count": 32,
   "id": "9c922f58",
   "metadata": {},
   "outputs": [
    {
     "data": {
      "text/plain": [
       "(array([ 6.,  5., 21., 25., 12., 15.,  9.,  4.,  1.,  2.]),\n",
       " array([18. , 21.2, 24.4, 27.6, 30.8, 34. , 37.2, 40.4, 43.6, 46.8, 50. ]),\n",
       " <BarContainer object of 10 artists>)"
      ]
     },
     "execution_count": 32,
     "metadata": {},
     "output_type": "execute_result"
    },
    {
     "data": {
      "image/png": "[encoded data removed]",
      "text/plain": [
       "<Figure size 432x288 with 1 Axes>"
      ]
     },
     "metadata": {
      "needs_background": "light"
     },
     "output_type": "display_data"
    }
   ],
   "source": [
    "#Running multiple simulations\n",
    "collector = []\n",
    "\n",
    "for i in range(100):\n",
    "    successes = np.random.binomial(1000, 0.03)\n",
    "    collector.append(successes)\n",
    "    \n",
    "plt.hist(collector)"
   ]
  },
  {
   "cell_type": "code",
   "execution_count": 33,
   "id": "61c1dad3",
   "metadata": {},
   "outputs": [
    {
     "data": {
      "text/plain": [
       "(array([  2.,  18.,  63., 184., 284., 248., 138.,  50.,  12.,   1.]),\n",
       " array([11., 15., 19., 23., 27., 31., 35., 39., 43., 47., 51.]),\n",
       " <BarContainer object of 10 artists>)"
      ]
     },
     "execution_count": 33,
     "metadata": {},
     "output_type": "execute_result"
    },
    {
     "data": {
      "image/png": "[encoded data removed]",
      "text/plain": [
       "<Figure size 432x288 with 1 Axes>"
      ]
     },
     "metadata": {
      "needs_background": "light"
     },
     "output_type": "display_data"
    }
   ],
   "source": [
    "#Running multiple simulations\n",
    "collector = []\n",
    "\n",
    "for i in range(1000):\n",
    "    successes = np.random.binomial(1000, 0.03)\n",
    "    collector.append(successes)\n",
    "    \n",
    "plt.hist(collector)"
   ]
  },
  {
   "cell_type": "code",
   "execution_count": 34,
   "id": "1e70bfd1",
   "metadata": {},
   "outputs": [
    {
     "data": {
      "text/plain": [
       "(array([  36.,  297., 1186., 2512., 2866., 1931.,  842.,  275.,   45.,\n",
       "          10.]),\n",
       " array([13. , 16.9, 20.8, 24.7, 28.6, 32.5, 36.4, 40.3, 44.2, 48.1, 52. ]),\n",
       " <BarContainer object of 10 artists>)"
      ]
     },
     "execution_count": 34,
     "metadata": {},
     "output_type": "execute_result"
    },
    {
     "data": {
      "image/png": "[encoded data removed]",
      "text/plain": [
       "<Figure size 432x288 with 1 Axes>"
      ]
     },
     "metadata": {
      "needs_background": "light"
     },
     "output_type": "display_data"
    }
   ],
   "source": [
    "#Running multiple simulations\n",
    "collector = []\n",
    "\n",
    "for i in range(10000):\n",
    "    successes = np.random.binomial(1000, 0.03)\n",
    "    collector.append(successes)\n",
    "    \n",
    "plt.hist(collector)"
   ]
  },
  {
   "cell_type": "markdown",
   "id": "f8e62a2f",
   "metadata": {},
   "source": [
    "# Normal distribution is continous - Binomial is discrete\n",
    "\n",
    "The main difference is that normal distribution is continous \n",
    "whereas binomial is discrete, but if there are enough data points it\n",
    " will be quite similar to normal distribution with certain loc and scale.\n",
    "\n"
   ]
  },
  {
   "cell_type": "markdown",
   "id": "53fc9d54",
   "metadata": {},
   "source": [
    "* I run a stand outside Lazy Dada's show and I sell merch\n",
    "* The probability that the client will buy something on it is 36% \n",
    "* In a specifric show I have 250 groups of 10 people\n",
    "* How many people buy merch from your random sample?"
   ]
  },
  {
   "cell_type": "code",
   "execution_count": 37,
   "id": "7afec45d",
   "metadata": {},
   "outputs": [
    {
     "data": {
      "text/plain": [
       "896"
      ]
     },
     "execution_count": 37,
     "metadata": {},
     "output_type": "execute_result"
    }
   ],
   "source": [
    "#Running multiple simulations\n",
    "buyers = []\n",
    "\n",
    "for i in range(250):\n",
    "    sales = np.random.binomial(10, 0.36)\n",
    "    buyers.append(sales)\n",
    "\n",
    "sum(buyers)"
   ]
  },
  {
   "cell_type": "code",
   "execution_count": 38,
   "id": "7e60dc40",
   "metadata": {},
   "outputs": [
    {
     "data": {
      "text/plain": [
       "885"
      ]
     },
     "execution_count": 38,
     "metadata": {},
     "output_type": "execute_result"
    }
   ],
   "source": [
    "sum(np.random.binomial(10, 0.36,250)) #Equivalent"
   ]
  },
  {
   "cell_type": "markdown",
   "id": "0b28e8f2",
   "metadata": {},
   "source": [
    "# Let's get back to coins!\n",
    "\n",
    "\n",
    "I have 2 coins, one is fair, the other?\n",
    "Maybe.\n",
    "\n",
    "\n",
    "How can I determine if it's a fair coin?"
   ]
  },
  {
   "cell_type": "markdown",
   "id": "84b5c75d",
   "metadata": {},
   "source": [
    "* We will conduct a battery of 100 experiemnts\n",
    "* In each experiment we will throw the 2 coins 1000 times\n",
    "* and write down the probability of success \n",
    "* Then - We plot it, and see what we think"
   ]
  },
  {
   "cell_type": "code",
   "execution_count": 45,
   "id": "02c95da1",
   "metadata": {},
   "outputs": [
    {
     "data": {
      "text/plain": [
       "(548, 470)"
      ]
     },
     "execution_count": 45,
     "metadata": {},
     "output_type": "execute_result"
    }
   ],
   "source": [
    "fair_coin = np.random.binomial(1000, 0.5)\n",
    "another_fair_coin = np.random.binomial(1000, 0.5)\n",
    "\n",
    "fair_coin, another_fair_coin"
   ]
  },
  {
   "cell_type": "code",
   "execution_count": 43,
   "id": "22ef3c7c",
   "metadata": {},
   "outputs": [
    {
     "data": {
      "text/plain": [
       "<matplotlib.legend.Legend at 0x7f616545bca0>"
      ]
     },
     "execution_count": 43,
     "metadata": {},
     "output_type": "execute_result"
    },
    {
     "data": {
      "image/png": "[encoded data removed]",
      "text/plain": [
       "<Figure size 432x288 with 1 Axes>"
      ]
     },
     "metadata": {
      "needs_background": "light"
     },
     "output_type": "display_data"
    }
   ],
   "source": [
    "fc_collector = []\n",
    "afc_collector = []\n",
    "trials = 1000\n",
    "\n",
    "for i in range(100):   \n",
    "    fair_coin = np.random.binomial(trials, 0.5)\n",
    "    another_fair_coin = np.random.binomial(trials, 0.5)\n",
    "    \n",
    "    fc_collector.append(fair_coin/trials)\n",
    "    afc_collector.append(another_fair_coin/trials)\n",
    "\n",
    "plt.title(\"Are the two coins fair?\")\n",
    "plt.hist(fc_collector, alpha=0.5, label='Fair');\n",
    "plt.hist(afc_collector, alpha=0.5, label='Maybe Fair?');\n",
    "plt.axvline(0.5, lw=3, c='r', ls=':')\n",
    "plt.legend()"
   ]
  },
  {
   "cell_type": "code",
   "execution_count": 44,
   "id": "67b04520",
   "metadata": {},
   "outputs": [
    {
     "data": {
      "text/plain": [
       "<matplotlib.legend.Legend at 0x7f61653f4790>"
      ]
     },
     "execution_count": 44,
     "metadata": {},
     "output_type": "execute_result"
    },
    {
     "data": {
      "image/png": "[encoded data removed]",
      "text/plain": [
       "<Figure size 432x288 with 1 Axes>"
      ]
     },
     "metadata": {
      "needs_background": "light"
     },
     "output_type": "display_data"
    }
   ],
   "source": [
    "fc_collector = []\n",
    "afc_collector = []\n",
    "trials = 1000\n",
    "\n",
    "for i in range(100):   \n",
    "    fair_coin = np.random.binomial(trials, 0.5)\n",
    "    another_fair_coin = np.random.binomial(trials, 0.7)\n",
    "    \n",
    "    fc_collector.append(fair_coin/trials)\n",
    "    afc_collector.append(another_fair_coin/trials)\n",
    "\n",
    "plt.title(\"Are the two coins fair?\")\n",
    "plt.hist(fc_collector, alpha=0.5, label='Fair');\n",
    "plt.hist(afc_collector, alpha=0.5, label='Maybe Fair?');\n",
    "plt.axvline(0.5, lw=3, c='r', ls=':')\n",
    "plt.legend()"
   ]
  },
  {
   "cell_type": "markdown",
   "id": "0ea02b97",
   "metadata": {},
   "source": [
    "# How confident are we?"
   ]
  },
  {
   "cell_type": "markdown",
   "id": "4cb6c462",
   "metadata": {},
   "source": [
    "### Let's try with 100 trials"
   ]
  },
  {
   "cell_type": "code",
   "execution_count": 47,
   "id": "30ea3b5b",
   "metadata": {},
   "outputs": [
    {
     "data": {
      "text/plain": [
       "<matplotlib.legend.Legend at 0x7f6165656790>"
      ]
     },
     "execution_count": 47,
     "metadata": {},
     "output_type": "execute_result"
    },
    {
     "data": {
      "image/png": "[encoded data removed]",
      "text/plain": [
       "<Figure size 432x288 with 1 Axes>"
      ]
     },
     "metadata": {
      "needs_background": "light"
     },
     "output_type": "display_data"
    }
   ],
   "source": [
    "fc_collector = []\n",
    "afc_collector = []\n",
    "trials = 100\n",
    "\n",
    "for i in range(100):   \n",
    "    fair_coin = np.random.binomial(trials, 0.5)\n",
    "    another_fair_coin = np.random.binomial(trials, 0.535)\n",
    "    \n",
    "    fc_collector.append(fair_coin/trials)\n",
    "    afc_collector.append(another_fair_coin/trials)\n",
    "\n",
    "plt.title(\"Are the two coins fair?\")\n",
    "plt.hist(fc_collector, alpha=0.5, label='Fair');\n",
    "plt.hist(afc_collector, alpha=0.5, label='Maybe Fair?');\n",
    "plt.axvline(0.5, lw=3, c='r', ls=':')\n",
    "plt.legend()"
   ]
  },
  {
   "cell_type": "markdown",
   "id": "4dd9b164",
   "metadata": {},
   "source": [
    "### Now 10000 trials! The difference becomes very evident"
   ]
  },
  {
   "cell_type": "code",
   "execution_count": 48,
   "id": "8288f090",
   "metadata": {},
   "outputs": [
    {
     "data": {
      "text/plain": [
       "<matplotlib.legend.Legend at 0x7f61656410a0>"
      ]
     },
     "execution_count": 48,
     "metadata": {},
     "output_type": "execute_result"
    },
    {
     "data": {
      "image/png": "[encoded data removed]",
      "text/plain": [
       "<Figure size 432x288 with 1 Axes>"
      ]
     },
     "metadata": {
      "needs_background": "light"
     },
     "output_type": "display_data"
    }
   ],
   "source": [
    "fc_collector = []\n",
    "afc_collector = []\n",
    "trials = 10000\n",
    "\n",
    "for i in range(100):   \n",
    "    fair_coin = np.random.binomial(trials, 0.5)\n",
    "    another_fair_coin = np.random.binomial(trials, 0.535)\n",
    "    \n",
    "    fc_collector.append(fair_coin/trials)\n",
    "    afc_collector.append(another_fair_coin/trials)\n",
    "\n",
    "plt.title(\"Are the two coins fair?\")\n",
    "plt.hist(fc_collector, alpha=0.5, label='Fair');\n",
    "plt.hist(afc_collector, alpha=0.5, label='Maybe Fair?');\n",
    "plt.axvline(0.5, lw=3, c='r', ls=':')\n",
    "plt.legend()"
   ]
  },
  {
   "cell_type": "code",
   "execution_count": null,
   "id": "4ca8056c",
   "metadata": {},
   "outputs": [],
   "source": []
  },
  {
   "cell_type": "code",
   "execution_count": null,
   "id": "4579302f",
   "metadata": {},
   "outputs": [],
   "source": []
  }
 ],
 "metadata": {
  "kernelspec": {
   "display_name": "Python 3 (ipykernel)",
   "language": "python",
   "name": "python3"
  },
  "language_info": {
   "codemirror_mode": {
    "name": "ipython",
    "version": 3
   },
   "file_extension": ".py",
   "mimetype": "text/x-python",
   "name": "python",
   "nbconvert_exporter": "python",
   "pygments_lexer": "ipython3",
   "version": "3.8.10"
  }
 },
 "nbformat": 4,
 "nbformat_minor": 5
}
