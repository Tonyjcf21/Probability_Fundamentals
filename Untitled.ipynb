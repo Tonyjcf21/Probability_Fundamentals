{
 "cells": [
  {
   "cell_type": "code",
   "execution_count": 1,
   "id": "7305ab70",
   "metadata": {},
   "outputs": [],
   "source": [
    "import numpy as np\n",
    "import pandas as pd"
   ]
  },
  {
   "cell_type": "markdown",
   "id": "0903bcc1",
   "metadata": {},
   "source": [
    "### Q1. make 100000 simulations to: 12 boxes, 10 balls put in boxes at random. what is the probability to find 5 boxes empty?"
   ]
  },
  {
   "cell_type": "code",
   "execution_count": 3,
   "id": "5c1d84cf",
   "metadata": {},
   "outputs": [
    {
     "data": {
      "text/plain": [
       "0.37832"
      ]
     },
     "execution_count": 3,
     "metadata": {},
     "output_type": "execute_result"
    }
   ],
   "source": [
    "box_w_5_empty = 0\n",
    "\n",
    "for simulation in range(100000):\n",
    "    boxes = np.zeros(12)\n",
    "    for i in range(10):\n",
    "        index = np.random.randint(0,12)\n",
    "        boxes[index] += 1\n",
    "\n",
    "    empty_box = (boxes==0).sum()\n",
    "    if empty_box == 5:\n",
    "        flag += 1\n",
    "\n",
    "box_w_5_empty/100000"
   ]
  },
  {
   "cell_type": "markdown",
   "id": "393a7622",
   "metadata": {},
   "source": [
    "### Q2. make 100000 simulations to: The game consists of N rounds, where P is a probability of winning in a single round. Each game stops when the player lose in 2 rounds (not necessarily sequentially). What is the average duration of a game (in rounds)? Run a simulation for P=0.6\n"
   ]
  },
  {
   "cell_type": "code",
   "execution_count": null,
   "id": "8169426b",
   "metadata": {},
   "outputs": [],
   "source": []
  },
  {
   "cell_type": "markdown",
   "id": "de0ecc3f",
   "metadata": {},
   "source": [
    "### Q3. You have a deck of 100 cards with values from 1 to 100. you draw 2 cards without replacement. what is probability that the number on one card is double than the other? (this is an interview question from Zenfit)"
   ]
  },
  {
   "cell_type": "code",
   "execution_count": 4,
   "id": "ba4a2fb1",
   "metadata": {},
   "outputs": [
    {
     "data": {
      "text/plain": [
       "0.01013"
      ]
     },
     "execution_count": 4,
     "metadata": {},
     "output_type": "execute_result"
    }
   ],
   "source": [
    "def one_round():\n",
    "    my_list = sorted(np.random.choice(range(100),size=2, replace=False))\n",
    "    return my_list[1] == my_list[0]*2\n",
    "\n",
    "def cards():\n",
    "    counter = 0 \n",
    "    for i in range(100000):\n",
    "        if one_round():\n",
    "            counter += 1\n",
    "    return counter / 100000\n",
    "            \n",
    "cards()"
   ]
  },
  {
   "cell_type": "code",
   "execution_count": null,
   "id": "1528dee3",
   "metadata": {},
   "outputs": [],
   "source": []
  }
 ],
 "metadata": {
  "kernelspec": {
   "display_name": "Python 3 (ipykernel)",
   "language": "python",
   "name": "python3"
  },
  "language_info": {
   "codemirror_mode": {
    "name": "ipython",
    "version": 3
   },
   "file_extension": ".py",
   "mimetype": "text/x-python",
   "name": "python",
   "nbconvert_exporter": "python",
   "pygments_lexer": "ipython3",
   "version": "3.8.10"
  }
 },
 "nbformat": 4,
 "nbformat_minor": 5
}
