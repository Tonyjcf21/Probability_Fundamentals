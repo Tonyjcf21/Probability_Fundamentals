{
 "cells": [
  {
   "cell_type": "code",
   "execution_count": 6,
   "id": "7305ab70",
   "metadata": {},
   "outputs": [],
   "source": [
    "import numpy as np\n",
    "import pandas as pd"
   ]
  },
  {
   "cell_type": "markdown",
   "id": "0903bcc1",
   "metadata": {},
   "source": [
    "### Q1. make 100000 simulations to: 12 boxes, 10 balls put in boxes at random. what is the probability to find 5 boxes empty?"
   ]
  },
  {
   "cell_type": "code",
   "execution_count": 3,
   "id": "5c1d84cf",
   "metadata": {},
   "outputs": [
    {
     "data": {
      "text/plain": [
       "0.37832"
      ]
     },
     "execution_count": 3,
     "metadata": {},
     "output_type": "execute_result"
    }
   ],
   "source": [
    "box_w_5_empty = 0\n",
    "\n",
    "for simulation in range(100000):\n",
    "    boxes = np.zeros(12)\n",
    "    for i in range(10):\n",
    "        index = np.random.randint(0,12)\n",
    "        boxes[index] += 1\n",
    "\n",
    "    empty_box = (boxes==0).sum()\n",
    "    if empty_box == 5:\n",
    "        flag += 1\n",
    "\n",
    "box_w_5_empty/100000"
   ]
  },
  {
   "cell_type": "markdown",
   "id": "393a7622",
   "metadata": {},
   "source": [
    "### Q2. make 100000 simulations to: The game consists of N rounds, where P is a probability of winning in a single round. Each game stops when the player lose in 2 rounds (not necessarily sequentially). What is the average duration of a game (in rounds)? Run a simulation for P=0.6\n"
   ]
  },
  {
   "cell_type": "code",
   "execution_count": 7,
   "id": "8169426b",
   "metadata": {},
   "outputs": [],
   "source": [
    "P = 0.6\n",
    "ROUNDS_TO_LOSE = 2\n",
    "NUM_SIMULATIONS = 100000"
   ]
  },
  {
   "cell_type": "markdown",
   "id": "59132912",
   "metadata": {},
   "source": [
    "* note: we have 3 different things:\n",
    "* Simulations --> game --> rounds\n",
    "* in every game there are rounds, and their number could change - depends how many loses there are! and we are doing a lot of games simulations to find the average rounds per a game. \n",
    "* the simple trick to simulate a \"win\" or \"lose\" in one round, is to use <code> np.random.rand()</code> which randomize a number between 1 and 0. We will say that if the random number is below 0.6, it will be a win, otherwise a lose."
   ]
  },
  {
   "cell_type": "code",
   "execution_count": 8,
   "id": "4b52493d",
   "metadata": {},
   "outputs": [
    {
     "name": "stdout",
     "output_type": "stream",
     "text": [
      "0.13 you won\n"
     ]
    }
   ],
   "source": [
    "x = round(np.random.rand(),2)\n",
    "if x>0.6:\n",
    "    print(x,\"you lose\")\n",
    "else:\n",
    "    print(x, \"you won\")"
   ]
  },
  {
   "cell_type": "markdown",
   "id": "e9b19a6b",
   "metadata": {},
   "source": [
    "### now we will create a \"one game\" function:\n",
    "#### basic logic for 1 game in pseudo code:\n",
    "<code>\n",
    "initiate \"rounds counter\", \"loses counter\". \n",
    "while we haven't lost two games:\n",
    "    * play a round with P = 0.6 to win and 0.4 to lose\n",
    "    * if you lose, add 1 to your loses counter.\n",
    "    * if you won - don't do nothing\n",
    "    * doesn't matter if you win or lose, add 1 to your \"rounds_counter\" \n",
    "when you have 2 loses, return the rounds counter\n",
    "</code>"
   ]
  },
  {
   "cell_type": "code",
   "execution_count": 9,
   "id": "0879a97b",
   "metadata": {
    "scrolled": true
   },
   "outputs": [
    {
     "data": {
      "text/plain": [
       "2"
      ]
     },
     "execution_count": 9,
     "metadata": {},
     "output_type": "execute_result"
    }
   ],
   "source": [
    "# every time you run this cell you will get a different answer.\n",
    "\n",
    "def one_game(p, rounds_to_lose):\n",
    "    rounds = 0\n",
    "    loses = 0 \n",
    "    while loses != rounds_to_lose:\n",
    "        if np.random.rand()>0.6:\n",
    "#             it's a lose, we add 1 to loses:\n",
    "            loses += 1\n",
    "#     i add 1 to rounds, no matter the outcome, that's why the indentation is outside the \"if\"!\n",
    "        rounds += 1\n",
    "#     when we're out of the while loop, that means we had 2 loses so i should return \"rounds\". \n",
    "#     note that it's out of the indentation of the \"while\" loop!\n",
    "    return rounds\n",
    "        \n",
    "        \n",
    "\n",
    "one_game(P, ROUNDS_TO_LOSE )"
   ]
  },
  {
   "cell_type": "code",
   "execution_count": 10,
   "id": "a9ec11c1",
   "metadata": {},
   "outputs": [
    {
     "data": {
      "text/plain": [
       "4.99485"
      ]
     },
     "execution_count": 10,
     "metadata": {},
     "output_type": "execute_result"
    }
   ],
   "source": [
    "# and now lets create the general function:\n",
    "\n",
    "def game_2_loses(p, rounds_to_lose):\n",
    "    rounds = []\n",
    "    for i in range(NUM_SIMULATIONS):\n",
    "        one_game_result = one_game(p, rounds_to_lose)\n",
    "        rounds.append(one_game_result)\n",
    "    return np.mean(rounds)\n",
    "        \n",
    "\n",
    "game_2_loses(P, ROUNDS_TO_LOSE)"
   ]
  },
  {
   "cell_type": "markdown",
   "id": "de0ecc3f",
   "metadata": {},
   "source": [
    "### Q3. You have a deck of 100 cards with values from 1 to 100. you draw 2 cards without replacement. what is probability that the number on one card is double than the other? (this is an interview question from Zenfit)"
   ]
  },
  {
   "cell_type": "code",
   "execution_count": 4,
   "id": "ba4a2fb1",
   "metadata": {},
   "outputs": [
    {
     "data": {
      "text/plain": [
       "0.01013"
      ]
     },
     "execution_count": 4,
     "metadata": {},
     "output_type": "execute_result"
    }
   ],
   "source": [
    "def one_round():\n",
    "    my_list = sorted(np.random.choice(range(100),size=2, replace=False))\n",
    "    return my_list[1] == my_list[0]*2\n",
    "\n",
    "def cards():\n",
    "    counter = 0 \n",
    "    for i in range(100000):\n",
    "        if one_round():\n",
    "            counter += 1\n",
    "    return counter / 100000\n",
    "            \n",
    "cards()"
   ]
  },
  {
   "cell_type": "code",
   "execution_count": null,
   "id": "1528dee3",
   "metadata": {},
   "outputs": [],
   "source": []
  }
 ],
 "metadata": {
  "kernelspec": {
   "display_name": "Python 3 (ipykernel)",
   "language": "python",
   "name": "python3"
  },
  "language_info": {
   "codemirror_mode": {
    "name": "ipython",
    "version": 3
   },
   "file_extension": ".py",
   "mimetype": "text/x-python",
   "name": "python",
   "nbconvert_exporter": "python",
   "pygments_lexer": "ipython3",
   "version": "3.8.10"
  }
 },
 "nbformat": 4,
 "nbformat_minor": 5
}
